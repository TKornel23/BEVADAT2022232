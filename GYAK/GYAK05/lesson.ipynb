{
 "cells": [
  {
   "cell_type": "code",
   "execution_count": 4,
   "metadata": {},
   "outputs": [
    {
     "name": "stdout",
     "output_type": "stream",
     "text": [
      "Requirement already satisfied: seaborn in c:\\users\\tkorn\\appdata\\local\\programs\\python\\python310\\lib\\site-packages (0.12.2)Note: you may need to restart the kernel to use updated packages.\n",
      "\n",
      "Requirement already satisfied: pandas>=0.25 in c:\\users\\tkorn\\appdata\\local\\programs\\python\\python310\\lib\\site-packages (from seaborn) (1.5.3)\n",
      "Requirement already satisfied: numpy!=1.24.0,>=1.17 in c:\\users\\tkorn\\appdata\\local\\programs\\python\\python310\\lib\\site-packages (from seaborn) (1.24.2)\n",
      "Requirement already satisfied: matplotlib!=3.6.1,>=3.1 in c:\\users\\tkorn\\appdata\\local\\programs\\python\\python310\\lib\\site-packages (from seaborn) (3.7.1)\n",
      "Requirement already satisfied: pyparsing>=2.3.1 in c:\\users\\tkorn\\appdata\\local\\programs\\python\\python310\\lib\\site-packages (from matplotlib!=3.6.1,>=3.1->seaborn) (3.0.9)\n",
      "Requirement already satisfied: packaging>=20.0 in c:\\users\\tkorn\\appdata\\roaming\\python\\python310\\site-packages (from matplotlib!=3.6.1,>=3.1->seaborn) (23.0)\n",
      "Requirement already satisfied: pillow>=6.2.0 in c:\\users\\tkorn\\appdata\\local\\programs\\python\\python310\\lib\\site-packages (from matplotlib!=3.6.1,>=3.1->seaborn) (9.4.0)\n",
      "Requirement already satisfied: python-dateutil>=2.7 in c:\\users\\tkorn\\appdata\\roaming\\python\\python310\\site-packages (from matplotlib!=3.6.1,>=3.1->seaborn) (2.8.2)\n",
      "Requirement already satisfied: cycler>=0.10 in c:\\users\\tkorn\\appdata\\local\\programs\\python\\python310\\lib\\site-packages (from matplotlib!=3.6.1,>=3.1->seaborn) (0.11.0)\n",
      "Requirement already satisfied: fonttools>=4.22.0 in c:\\users\\tkorn\\appdata\\local\\programs\\python\\python310\\lib\\site-packages (from matplotlib!=3.6.1,>=3.1->seaborn) (4.39.2)\n",
      "Requirement already satisfied: kiwisolver>=1.0.1 in c:\\users\\tkorn\\appdata\\local\\programs\\python\\python310\\lib\\site-packages (from matplotlib!=3.6.1,>=3.1->seaborn) (1.4.4)\n",
      "Requirement already satisfied: contourpy>=1.0.1 in c:\\users\\tkorn\\appdata\\local\\programs\\python\\python310\\lib\\site-packages (from matplotlib!=3.6.1,>=3.1->seaborn) (1.0.7)\n",
      "Requirement already satisfied: pytz>=2020.1 in c:\\users\\tkorn\\appdata\\local\\programs\\python\\python310\\lib\\site-packages (from pandas>=0.25->seaborn) (2023.2)\n",
      "Requirement already satisfied: six>=1.5 in c:\\users\\tkorn\\appdata\\roaming\\python\\python310\\site-packages (from python-dateutil>=2.7->matplotlib!=3.6.1,>=3.1->seaborn) (1.16.0)\n"
     ]
    }
   ],
   "source": [
    "%pip install seaborn\n",
    "import numpy as np\n",
    "import seaborn as sns\n",
    "from typing import Tuple\n",
    "from scipy.stats import mode\n",
    "from sklearn.metrics import confusion_matrix\n",
    "\n",
    "\n",
    "csv_path = r\"C:\\Users\\tkorn\\source\\repos\\Bevadat\\GYAK\\GYAK05\\iris.csv\""
   ]
  },
  {
   "attachments": {},
   "cell_type": "markdown",
   "metadata": {},
   "source": [
    "Load data and clean, try loading without shuffle"
   ]
  },
  {
   "cell_type": "code",
   "execution_count": 5,
   "metadata": {},
   "outputs": [],
   "source": [
    "def load_csv(csv_path:str) ->Tuple[np.ndarray,np.ndarray]:\n",
    "    np.random.seed(42)\n",
    "    dataset = np.genfromtxt(csv_path,delimiter=',')\n",
    "    np.random.shuffle(dataset,)\n",
    "    x,y = dataset[:,:4],dataset[:,-1]\n",
    "    return x,y"
   ]
  },
  {
   "cell_type": "code",
   "execution_count": 6,
   "metadata": {},
   "outputs": [
    {
     "data": {
      "text/plain": [
       "(array([[ 6.100e+00,  2.800e+00,  4.700e+00,  1.200e+00],\n",
       "        [ 5.700e+00,  3.800e+00,  1.700e+00,  3.000e-01],\n",
       "        [ 7.700e+00,  2.600e+00,  6.900e+00,  2.300e+00],\n",
       "        [ 6.000e+00,  2.900e+00,  4.500e+00,  1.500e+00],\n",
       "        [ 6.800e+00,  2.800e+00, -1.111e+03,  1.400e+00],\n",
       "        [ 5.400e+00,  3.400e+00,  1.500e+00,  4.000e-01],\n",
       "        [ 5.600e+00,  2.900e+00,  3.600e+00,  1.300e+00],\n",
       "        [ 6.900e+00,  3.100e+00,  5.100e+00,  2.300e+00],\n",
       "        [ 6.200e+00,  2.200e+00,  4.500e+00,  1.500e+00],\n",
       "        [ 5.800e+00,  2.700e+00,  3.900e+00,  1.200e+00],\n",
       "        [ 6.500e+00,  3.200e+00,  5.100e+00,  2.000e+00],\n",
       "        [ 4.800e+00,  3.000e+00,  1.400e+00,  1.000e-01],\n",
       "        [ 5.500e+00,  3.500e+00,        nan,  2.000e-01],\n",
       "        [ 4.900e+00,  3.100e+00,  1.500e+00,  1.000e-01],\n",
       "        [ 5.100e+00,  1.000e+02,  1.500e+00,  3.000e-01],\n",
       "        [ 6.300e+00,  3.300e+00,  4.700e+00,  1.600e+00],\n",
       "        [ 6.500e+00,  3.000e+00,  5.800e+00,  2.200e+00],\n",
       "        [ 5.600e+00,  2.500e+00,  3.900e+00,  1.100e+00],\n",
       "        [       nan,  2.800e+00,  4.500e+00,        nan],\n",
       "        [ 6.400e+00,        nan,  5.600e+00,  2.200e+00],\n",
       "        [ 4.700e+00,  3.200e+00,  1.600e+00,  2.000e-01],\n",
       "        [ 6.100e+00,  3.000e+00,  4.900e+00,  1.800e+00],\n",
       "        [ 5.000e+00,  3.400e+00,  1.600e+00,  4.000e-01],\n",
       "        [ 6.400e+00,  2.800e+00,  5.600e+00,  2.100e+00],\n",
       "        [ 7.900e+00,  3.800e+00,  6.400e+00,  2.000e+00],\n",
       "        [ 6.700e+00,  3.000e+00,  5.200e+00,  2.300e+00],\n",
       "        [ 6.700e+00,  2.500e+00,  5.800e+00,  1.800e+00],\n",
       "        [ 6.800e+00,  3.200e+00,  1.000e+03,  2.300e+00],\n",
       "        [ 5.000e+04,  3.000e+00,  1.400e+00,  3.000e-01],\n",
       "        [ 4.800e+00,  3.100e+00,  1.600e+00,  2.000e-01],\n",
       "        [ 4.600e+00,  3.600e+00,  1.000e+00,  2.000e-01],\n",
       "        [ 5.700e+00,  4.400e+00,  1.500e+00,  4.000e-01],\n",
       "        [ 6.700e+00,  3.100e+00,  4.400e+00,  1.400e+00],\n",
       "        [       nan,  3.400e+00,  1.600e+00,  2.000e-01],\n",
       "        [ 4.400e+00,  3.200e+00,  1.300e+00,  2.000e-01],\n",
       "        [ 6.300e+00,  2.500e+00,  5.000e+00,  1.900e+00],\n",
       "        [ 6.400e+00,  3.200e+00,  4.500e+00,  1.500e+00],\n",
       "        [ 5.200e+00,  3.500e+00,  1.500e+00,  2.000e-01],\n",
       "        [ 5.000e+00,  3.600e+00,  1.400e+00,  2.000e-01],\n",
       "        [ 5.200e+00,  4.100e+00,  1.500e+00,  1.000e-01],\n",
       "        [ 5.800e+00,  2.700e+00,  5.100e+00,  1.900e+00],\n",
       "        [ 6.000e+00,  3.400e+00,  4.500e+00,  1.600e+00],\n",
       "        [ 6.700e+00,  3.100e+00,  4.700e+00,  1.500e+00],\n",
       "        [ 5.400e+00,  3.900e+00,  1.300e+00,  4.000e-01],\n",
       "        [ 5.400e+00,  3.700e+00,  1.500e+00,  2.000e-01],\n",
       "        [ 5.500e+00,  2.400e+00,  3.700e+00,  1.000e+00],\n",
       "        [ 6.300e+00,  2.800e+00,  5.100e+00,  1.500e+00],\n",
       "        [ 6.400e+00,  3.100e+00,  5.500e+00,  1.800e+00],\n",
       "        [ 6.600e+00,  3.000e+00,  4.400e+00,  1.400e+00],\n",
       "        [ 7.200e+00,  3.600e+00,  6.100e+00,  2.500e+00],\n",
       "        [ 5.700e+00,  2.900e+00,  4.200e+00,  1.300e+00],\n",
       "        [ 7.600e+00,  3.000e+00,  6.600e+00,  2.100e+00],\n",
       "        [       nan,  3.000e+00,  4.500e+00,  1.500e+00],\n",
       "        [ 5.100e+00,  3.500e+00,  1.400e+00,  2.000e-01],\n",
       "        [ 7.700e+00,  2.800e+00,  6.700e+00,  2.000e+00],\n",
       "        [ 5.800e+00,  2.700e+00,  4.100e+00,  1.000e+00],\n",
       "        [ 5.200e+00,  3.400e+00,  1.400e+00,  2.000e-01],\n",
       "        [ 5.000e+00,  3.500e+00,  1.300e+00,  3.000e-01],\n",
       "        [ 5.100e+00,  3.800e+00,  1.900e+00,  4.000e-01],\n",
       "        [ 5.000e+00,  2.000e+00,  3.500e+00,  1.000e+00],\n",
       "        [ 6.300e+00,  2.700e+00,  4.900e+00,  1.800e+00],\n",
       "        [ 4.800e+00,  3.400e+00,  1.900e+00,  2.000e-01],\n",
       "        [ 5.000e+00,  3.000e+00,  1.600e+00,  3.000e+03],\n",
       "        [       nan,  3.300e+00,  1.700e+00,  5.000e-01],\n",
       "        [ 5.600e+00,  2.700e+00,        nan,  1.300e+00],\n",
       "        [ 5.100e+00,  3.400e+00,  1.500e+00,  2.000e-01],\n",
       "        [ 5.700e+00,  3.000e+00,  4.200e+00,  1.200e+00],\n",
       "        [ 7.700e+00,  3.800e+00,  6.700e+00,  2.200e+00],\n",
       "        [ 4.600e+00,  3.200e+00,  1.400e+00,  2.000e-01],\n",
       "        [ 6.200e+00,  2.900e+00,  4.300e+00,  1.300e+00],\n",
       "        [ 5.700e+00,  2.500e+00,  5.000e+00,  2.000e+00],\n",
       "        [ 5.500e+00,  4.200e+00,  1.400e+00,  2.000e-01],\n",
       "        [ 6.000e+00,  3.000e+00,  4.800e+00,        nan],\n",
       "        [ 5.800e+00,  2.700e+00,  5.100e+00,  1.900e+00],\n",
       "        [ 6.000e+00,  2.200e+00,  4.000e+00,  1.000e+00],\n",
       "        [ 5.400e+00,  3.000e+00,  4.500e+00,  1.500e+00],\n",
       "        [       nan,  3.400e+00,  5.400e+00,  2.300e+00],\n",
       "        [ 5.500e+00,  2.300e+00,  4.000e+00,  1.300e+00],\n",
       "        [ 5.400e+00,  3.900e+00,  1.700e+00,        nan],\n",
       "        [ 5.000e+00,  2.300e+00,  3.300e+00,  1.000e+00],\n",
       "        [ 6.400e+00,  2.700e+00,  5.300e+00,  1.900e+00],\n",
       "        [ 5.000e+00,  3.300e+00,  1.400e+00,  2.000e-01],\n",
       "        [ 5.000e+00,  3.200e+00,  1.200e+00,  2.000e-01],\n",
       "        [ 5.500e+00,  2.400e+00,  3.800e+00,  1.100e+00],\n",
       "        [ 6.700e+00,  3.000e+00,  5.000e+00,  1.700e+00],\n",
       "        [ 4.900e+00,  3.100e+00,  1.500e+00,  1.000e-01],\n",
       "        [ 5.800e+00,  2.800e+00,  5.100e+00,  2.400e+00],\n",
       "        [ 5.000e+00,  3.400e+00,  1.500e+00,  2.000e-01],\n",
       "        [ 5.000e+00,  3.500e+00,  1.600e+00,  6.000e-01],\n",
       "        [ 5.900e+00,  3.200e+00,  4.800e+00,  1.800e+00],\n",
       "        [ 5.100e+00,  2.500e+00,  3.000e+00,  1.100e+00],\n",
       "        [ 6.900e+00,  3.200e+00,  5.700e+00,  2.300e+00],\n",
       "        [ 6.000e+00,  2.700e+00,  5.100e+00,  1.600e+00],\n",
       "        [ 6.100e+00,  2.600e+00,  5.600e+00,  1.400e+00],\n",
       "        [ 7.700e+00,  3.000e+00,  6.100e+00,  2.300e+00],\n",
       "        [ 5.500e+00,  2.500e+00,  4.000e+00,  1.300e+00],\n",
       "        [ 4.400e+00,  2.900e+00,  1.400e+00,  2.000e-01],\n",
       "        [ 4.300e+00,  3.000e+00,  1.100e+00,  1.000e-01],\n",
       "        [ 6.000e+00,  2.200e+00,  5.000e+00,  1.500e+00],\n",
       "        [ 7.200e+00,  3.200e+00,  6.000e+00,  1.800e+00],\n",
       "        [ 4.600e+00,  3.100e+00,  1.500e+00,  2.000e-01],\n",
       "        [ 5.100e+00,  3.500e+00,  1.400e+00,  3.000e-01],\n",
       "        [ 4.400e+00,  3.000e+00,  1.300e+00,  2.000e-01],\n",
       "        [ 6.300e+00,  2.500e+00,  4.900e+00,  1.500e+00],\n",
       "        [ 6.300e+00,  3.400e+00,  5.600e+00,  2.400e+00],\n",
       "        [ 4.600e+00,  3.400e+00,  1.400e+00,  3.000e-01],\n",
       "        [ 6.800e+00,  3.000e+00,  5.500e+00,  2.100e+00],\n",
       "        [ 6.300e+00,  3.300e+00,  6.000e+00,  2.500e+00],\n",
       "        [ 4.700e+00,  3.200e+00,  1.300e+00,  2.000e-01],\n",
       "        [ 6.100e+00,  2.900e+00,  4.700e+00,  1.400e+00],\n",
       "        [ 6.500e+00,  2.800e+00,  4.600e+00,  1.500e+00],\n",
       "        [ 6.200e+00,  2.800e+00,  4.800e+00,  1.800e+00],\n",
       "        [ 7.000e+00,  3.200e+00,  4.700e+00,  1.400e+00],\n",
       "        [ 6.400e+00,  3.200e+00,  5.300e+00,  2.300e+00],\n",
       "        [ 5.100e+00,  3.800e+00,  1.600e+00,  2.000e-01],\n",
       "        [ 6.900e+00,  3.100e+00,  5.400e+00,  2.100e+00],\n",
       "        [ 5.900e+00,  3.000e+00,  4.200e+00,  1.500e+00],\n",
       "        [ 6.500e+00,  3.000e+00,  5.200e+00,  2.000e+00],\n",
       "        [ 5.700e+00,  2.600e+00,  3.500e+00,        nan],\n",
       "        [ 5.200e+00,  2.700e+00,  3.900e+00,  1.400e+00],\n",
       "        [       nan,  3.000e+00,  4.600e+00,  1.400e+00],\n",
       "        [ 4.500e+00,  2.300e+00,  1.300e+00,  3.000e-01],\n",
       "        [ 6.600e+00,  2.900e+00,  4.600e+00,  1.300e+00],\n",
       "        [ 5.500e+00,  2.600e+00,  4.400e+00,  1.200e+00],\n",
       "        [ 5.300e+00,  3.700e+00,  1.500e+00,  2.000e-01],\n",
       "        [ 5.600e+00,  3.000e+00,  4.100e+00,  1.300e+00],\n",
       "        [ 7.300e+00,  2.900e+00,  6.300e+00,  1.800e+00],\n",
       "        [ 6.700e+00,  3.300e+00,  5.700e+00,  2.100e+00],\n",
       "        [ 5.100e+00,  3.700e+00,  1.500e+00,  4.000e-01],\n",
       "        [ 4.900e+00,  2.400e+00,  3.300e+00,  1.000e+00],\n",
       "        [ 6.700e+00,  3.300e+00,  5.700e+00,  2.500e+00],\n",
       "        [ 7.200e+00,  3.000e+00,  5.800e+00,  1.600e+00],\n",
       "        [ 4.900e+00,  3.100e+00,  1.500e+00,  1.000e-01],\n",
       "        [       nan,  3.100e+00,  5.600e+00,  2.400e+00],\n",
       "        [ 4.900e+00,  3.000e+00,  1.400e+00,  2.000e-01],\n",
       "        [ 6.900e+00,  3.100e+00,  4.900e+00,  1.500e+00],\n",
       "        [ 7.400e+00,  2.800e+00,  6.100e+00,  1.900e+00],\n",
       "        [ 6.300e+00,  2.900e+00,  5.600e+00,  1.800e+00],\n",
       "        [ 5.700e+00,  2.800e+00,  4.100e+00,  1.300e+00],\n",
       "        [ 6.500e+00,  3.000e+00,  5.500e+00,  1.800e+00],\n",
       "        [ 6.300e+00, -4.200e+04,  4.400e+00,  1.300e+00],\n",
       "        [ 6.400e+00,  2.900e+00,  4.300e+00,  1.300e+00],\n",
       "        [ 5.600e+00,        nan,  4.900e+00,  2.000e+00],\n",
       "        [ 5.900e+00,  3.000e+00,  5.100e+00,  1.800e+00],\n",
       "        [ 5.400e+00,  3.400e+00,  1.700e+00,  2.000e-01],\n",
       "        [ 6.100e+00,  2.800e+00,  4.000e+00,  1.300e+00],\n",
       "        [ 4.900e+00,  2.500e+00,  4.500e+00,  1.700e+00],\n",
       "        [ 5.800e+00,  4.000e+00,  1.200e+00,  2.000e-01],\n",
       "        [ 5.800e+00,  2.600e+00,  4.000e+00,  1.200e+00],\n",
       "        [ 7.100e+00,  3.000e+00,  5.900e+00,  2.100e+00]]),\n",
       " array([1., 0., 2., 1., 1., 0., 1., 2., 1., 1., 2., 0., 0., 0., 0., 1., 2.,\n",
       "        1., 1., 2., 0., 2., 0., 2., 2., 2., 2., 2., 0., 0., 0., 0., 1., 0.,\n",
       "        0., 2., 1., 0., 0., 0., 2., 1., 1., 0., 0., 1., 2., 2., 1., 2., 1.,\n",
       "        2., 1., 0., 2., 1., 0., 0., 0., 1., 2., 0., 0., 0., 1., 0., 1., 2.,\n",
       "        0., 1., 2., 0., 2., 2., 1., 1., 2., 1., 0., 1., 2., 0., 0., 1., 1.,\n",
       "        0., 2., 0., 0., 1., 1., 2., 1., 2., 2., 1., 0., 0., 2., 2., 0., 0.,\n",
       "        0., 1., 2., 0., 2., 2., 0., 1., 1., 2., 1., 2., 0., 2., 1., 2., 1.,\n",
       "        1., 1., 0., 1., 1., 0., 1., 2., 2., 0., 1., 2., 2., 0., 2., 0., 1.,\n",
       "        2., 2., 1., 2., 1., 1., 2., 2., 0., 1., 2., 0., 1., 2.]))"
      ]
     },
     "execution_count": 6,
     "metadata": {},
     "output_type": "execute_result"
    }
   ],
   "source": [
    "x,y = load_csv(csv_path)\n",
    "x,y"
   ]
  },
  {
   "cell_type": "code",
   "execution_count": 7,
   "metadata": {},
   "outputs": [
    {
     "data": {
      "text/plain": [
       "(array([nan, nan, nan, nan]), array([nan, nan, nan, nan]))"
      ]
     },
     "execution_count": 7,
     "metadata": {},
     "output_type": "execute_result"
    }
   ],
   "source": [
    "np.mean(x,axis=0),np.var(x,axis=0)"
   ]
  },
  {
   "cell_type": "code",
   "execution_count": 8,
   "metadata": {},
   "outputs": [
    {
     "data": {
      "text/plain": [
       "(array([ 355.46503497, -280.09189189,    2.95      ,   21.74726027]),\n",
       " array([1.73561968e+07, 1.18405444e+07, 1.51049922e+04, 6.11729208e+04]))"
      ]
     },
     "execution_count": 8,
     "metadata": {},
     "output_type": "execute_result"
    }
   ],
   "source": [
    "np.nanmean(x,axis=0),np.nanvar(x,axis=0)"
   ]
  },
  {
   "cell_type": "code",
   "execution_count": 9,
   "metadata": {},
   "outputs": [
    {
     "data": {
      "text/plain": [
       "(150, 4)"
      ]
     },
     "execution_count": 9,
     "metadata": {},
     "output_type": "execute_result"
    }
   ],
   "source": [
    "x[np.isnan(x)] = 3.5\n",
    "x.shape"
   ]
  },
  {
   "cell_type": "code",
   "execution_count": 10,
   "metadata": {},
   "outputs": [
    {
     "data": {
      "text/plain": [
       "(array([ 339.04      , -276.31066667,    2.95733333,   21.26066667]),\n",
       " array([1.65517522e+07, 1.16837285e+07, 1.49035963e+04, 5.95502852e+04]))"
      ]
     },
     "execution_count": 10,
     "metadata": {},
     "output_type": "execute_result"
    }
   ],
   "source": [
    "np.mean(x,axis=0),np.var(x,axis=0)"
   ]
  },
  {
   "cell_type": "code",
   "execution_count": 11,
   "metadata": {},
   "outputs": [
    {
     "data": {
      "text/plain": [
       "(4, 2)"
      ]
     },
     "execution_count": 11,
     "metadata": {},
     "output_type": "execute_result"
    }
   ],
   "source": [
    "(x > 13.0).sum(), (x < 0.0).sum()"
   ]
  },
  {
   "cell_type": "code",
   "execution_count": 12,
   "metadata": {},
   "outputs": [
    {
     "data": {
      "text/plain": [
       "array([ -1111.,    100.,   1000.,  50000.,   3000., -42000.])"
      ]
     },
     "execution_count": 12,
     "metadata": {},
     "output_type": "execute_result"
    }
   ],
   "source": [
    "x[np.where(np.logical_or(x > 13.0,x < 0.0))]"
   ]
  },
  {
   "cell_type": "code",
   "execution_count": 13,
   "metadata": {},
   "outputs": [
    {
     "data": {
      "text/plain": [
       "((array([  4, 140], dtype=int64), array([2, 1], dtype=int64)),\n",
       " (array([14, 27, 28, 62], dtype=int64), array([1, 2, 0, 3], dtype=int64)))"
      ]
     },
     "execution_count": 13,
     "metadata": {},
     "output_type": "execute_result"
    }
   ],
   "source": [
    "less_than = np.where(x < 0.0)\n",
    "higher_than = np.where(x > 13.0)\n",
    "less_than,higher_than"
   ]
  },
  {
   "cell_type": "code",
   "execution_count": 14,
   "metadata": {},
   "outputs": [
    {
     "data": {
      "text/plain": [
       "((144, 4), (144,))"
      ]
     },
     "execution_count": 14,
     "metadata": {},
     "output_type": "execute_result"
    }
   ],
   "source": [
    "y = np.delete(y,np.where(x < 0.0)[0],axis=0)\n",
    "y = np.delete(y,np.where(x > 13.0)[0],axis=0)\n",
    "x = np.delete(x,np.where(x < 0.0)[0],axis=0)\n",
    "x = np.delete(x,np.where(x > 13.0)[0],axis=0)\n",
    "x.shape,y.shape"
   ]
  },
  {
   "attachments": {},
   "cell_type": "markdown",
   "metadata": {},
   "source": [
    "Train test split\n",
    "try optim"
   ]
  },
  {
   "cell_type": "code",
   "execution_count": 15,
   "metadata": {},
   "outputs": [],
   "source": [
    "def train_test_split(features:np.ndarray,\n",
    "                     labels:np.ndarray,\n",
    "                     test_split_ratio:float) -> None:\n",
    "        \n",
    "    test_size = int(len(features) * test_split_ratio)\n",
    "    train_size = len(features) - test_size\n",
    "    assert len(features) == test_size + train_size, \"Size mismatch!\"\n",
    "\n",
    "    x_train,y_train = features[:train_size,:],labels[:train_size]\n",
    "    x_test,y_test = features[train_size:train_size+test_size,:], labels[train_size:train_size + test_size]\n",
    "    return (x_train,y_train,x_test,y_test)"
   ]
  },
  {
   "attachments": {},
   "cell_type": "markdown",
   "metadata": {},
   "source": [
    "Distance"
   ]
  },
  {
   "cell_type": "code",
   "execution_count": 16,
   "metadata": {},
   "outputs": [],
   "source": [
    "def euclidean(points:np.ndarray,element_of_x:np.ndarray) -> np.ndarray:\n",
    "    return np.sqrt(np.sum((points - element_of_x)**2,axis=1))"
   ]
  },
  {
   "attachments": {},
   "cell_type": "markdown",
   "metadata": {},
   "source": [
    "Predict func"
   ]
  },
  {
   "cell_type": "code",
   "execution_count": 17,
   "metadata": {},
   "outputs": [],
   "source": [
    "def predict(x_train:np.ndarray,y_train:np.ndarray,x_test:np.ndarray,k:int) -> np.ndarray:\n",
    "    labels_pred = []\n",
    "    for x_test_element in x_test:\n",
    "        distances = euclidean(x_train,x_test_element)\n",
    "        distances = np.array(sorted(zip(distances,y_train)))\n",
    "        label_pred = mode(distances[:k,1],keepdims=False).mode\n",
    "        labels_pred.append(label_pred)\n",
    "    return np.array(labels_pred,dtype=np.int32)"
   ]
  },
  {
   "attachments": {},
   "cell_type": "markdown",
   "metadata": {},
   "source": [
    "Metrics"
   ]
  },
  {
   "cell_type": "code",
   "execution_count": 18,
   "metadata": {},
   "outputs": [],
   "source": [
    "def accuracy(y_test:np.ndarray,y_preds:np.ndarray) -> float:\n",
    "    true_positive = (y_test == y_preds).sum()\n",
    "    return true_positive / len(y_test) * 100"
   ]
  },
  {
   "cell_type": "code",
   "execution_count": 19,
   "metadata": {},
   "outputs": [],
   "source": [
    "def plot_confusion_matrix(y_test:np.ndarray,y_preds:np.ndarray):\n",
    "        conf_matrix = confusion_matrix(y_test,y_preds)\n",
    "        sns.heatmap(conf_matrix,annot=True) "
   ]
  },
  {
   "cell_type": "code",
   "execution_count": 20,
   "metadata": {},
   "outputs": [],
   "source": [
    "class KNNClassifier:\n",
    "    x_train: np.ndarray\n",
    "    y_train: np.ndarray\n",
    "    x_test: np.ndarray\n",
    "    y_test: np.ndarray\n",
    "    y_preds: np.ndarray\n",
    "\n",
    "\n",
    "    def __init__(self, k:int, test_split_ratio:float):\n",
    "        self.k = k\n",
    "        self.test_split_ratio = test_split_ratio\n",
    "\n",
    "    def train_test_split(self, features:np.ndarray,\n",
    "                     labels:np.ndarray) -> None:\n",
    "        \n",
    "        test_size = int(len(features) * self.test_split_ratio)\n",
    "        train_size = len(features) - test_size\n",
    "        assert len(features) == test_size + train_size, \"Size mismatch!\"\n",
    "\n",
    "        x_train,y_train = features[:train_size,:],labels[:train_size]\n",
    "        x_test,y_test = features[train_size:train_size+test_size,:], labels[train_size:train_size + test_size]\n",
    "        return (x_train,y_train,x_test,y_test)\n",
    "    \n",
    "    def euclidean(self, element_of_x:np.ndarray) -> np.ndarray:\n",
    "        return np.sqrt(np.sum((self.x_train - element_of_x)**2,axis=1))\n",
    "    \n",
    "    def predict(self, x_test:np.ndarray) -> np.ndarray:\n",
    "        labels_pred = []\n",
    "        for x_test_element in x_test:\n",
    "            distances = euclidean(self.x_train, x_test_element)\n",
    "            distances = np.array(sorted(zip(distances, self.y_train)))\n",
    "            label_pred = mode(distances[:self.k, 1], keepdims=False).mode\n",
    "            labels_pred.append(label_pred)\n",
    "        self.y_preds = np.array(labels_pred, dtype=np.int32)\n",
    "\n",
    "    def accuracy(self) -> float:\n",
    "        true_positive = (self.y_test == self.y_preds).sum()\n",
    "        return true_positive / len(self.y_test) * 100\n",
    "    \n",
    "    def plot_confusion_matrix(self):\n",
    "        conf_matrix = confusion_matrix(self.y_test, self.y_preds)\n",
    "        sns.heatmap(conf_matrix,annot=True) \n",
    "\n",
    "    @property\n",
    "    def k_neighbors(self):\n",
    "        return self.k\n",
    "\n",
    "    @staticmethod\n",
    "    def load_csv(csv_path:str) ->Tuple[np.ndarray,np.ndarray]:\n",
    "        np.random.seed(42)\n",
    "        dataset = np.genfromtxt(csv_path,delimiter=',')\n",
    "        np.random.shuffle(dataset,)\n",
    "        x,y = dataset[:,:4],dataset[:,-1]\n",
    "        return x,y\n"
   ]
  },
  {
   "cell_type": "code",
   "execution_count": 22,
   "metadata": {},
   "outputs": [
    {
     "ename": "AttributeError",
     "evalue": "'KNNClassifier' object has no attribute 'y_test'",
     "output_type": "error",
     "traceback": [
      "\u001b[1;31m---------------------------------------------------------------------------\u001b[0m",
      "\u001b[1;31mAttributeError\u001b[0m                            Traceback (most recent call last)",
      "Cell \u001b[1;32mIn[22], line 8\u001b[0m\n\u001b[0;32m      6\u001b[0m x \u001b[39m=\u001b[39m np\u001b[39m.\u001b[39mdelete(x,np\u001b[39m.\u001b[39mwhere(x \u001b[39m>\u001b[39m \u001b[39m13.0\u001b[39m)[\u001b[39m0\u001b[39m],axis\u001b[39m=\u001b[39m\u001b[39m0\u001b[39m)\n\u001b[0;32m      7\u001b[0m knnClassifier \u001b[39m=\u001b[39m KNNClassifier(\u001b[39m3\u001b[39m, \u001b[39m0.2\u001b[39m)\n\u001b[1;32m----> 8\u001b[0m knnClassifier\u001b[39m.\u001b[39;49maccuracy()\n",
      "Cell \u001b[1;32mIn[20], line 37\u001b[0m, in \u001b[0;36mKNNClassifier.accuracy\u001b[1;34m(self)\u001b[0m\n\u001b[0;32m     36\u001b[0m \u001b[39mdef\u001b[39;00m \u001b[39maccuracy\u001b[39m(\u001b[39mself\u001b[39m) \u001b[39m-\u001b[39m\u001b[39m>\u001b[39m \u001b[39mfloat\u001b[39m:\n\u001b[1;32m---> 37\u001b[0m     true_positive \u001b[39m=\u001b[39m (\u001b[39mself\u001b[39;49m\u001b[39m.\u001b[39;49my_test \u001b[39m==\u001b[39m \u001b[39mself\u001b[39m\u001b[39m.\u001b[39my_preds)\u001b[39m.\u001b[39msum()\n\u001b[0;32m     38\u001b[0m     \u001b[39mreturn\u001b[39;00m true_positive \u001b[39m/\u001b[39m \u001b[39mlen\u001b[39m(\u001b[39mself\u001b[39m\u001b[39m.\u001b[39my_test) \u001b[39m*\u001b[39m \u001b[39m100\u001b[39m\n",
      "\u001b[1;31mAttributeError\u001b[0m: 'KNNClassifier' object has no attribute 'y_test'"
     ]
    }
   ],
   "source": [
    "x, y = KNNClassifier.load_csv(csv_path)\n",
    "x[np.isnan(x)] = 3.5\n",
    "y = np.delete(y,np.where(x < 0.0)[0],axis=0)\n",
    "y = np.delete(y,np.where(x > 13.0)[0],axis=0)\n",
    "x = np.delete(x,np.where(x < 0.0)[0],axis=0)\n",
    "x = np.delete(x,np.where(x > 13.0)[0],axis=0)\n",
    "knnClassifier = KNNClassifier(3, 0.2)\n",
    "knnClassifier.accuracy()"
   ]
  }
 ],
 "metadata": {
  "kernelspec": {
   "display_name": "Python 3",
   "language": "python",
   "name": "python3"
  },
  "language_info": {
   "codemirror_mode": {
    "name": "ipython",
    "version": 3
   },
   "file_extension": ".py",
   "mimetype": "text/x-python",
   "name": "python",
   "nbconvert_exporter": "python",
   "pygments_lexer": "ipython3",
   "version": "3.10.9"
  },
  "orig_nbformat": 4,
  "vscode": {
   "interpreter": {
    "hash": "e98160ef274be69b74999ae5c11d4ffc32e3029e302421b0e5ff5329f3efcb88"
   }
  }
 },
 "nbformat": 4,
 "nbformat_minor": 2
}
